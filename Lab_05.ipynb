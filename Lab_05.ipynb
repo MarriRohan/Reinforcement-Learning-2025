{
  "nbformat": 4,
  "nbformat_minor": 0,
  "metadata": {
    "colab": {
      "provenance": [],
      "authorship_tag": "ABX9TyP4TCtsFTezkBxI+RNVvErc",
      "include_colab_link": true
    },
    "kernelspec": {
      "name": "python3",
      "display_name": "Python 3"
    },
    "language_info": {
      "name": "python"
    }
  },
  "cells": [
    {
      "cell_type": "markdown",
      "metadata": {
        "id": "view-in-github",
        "colab_type": "text"
      },
      "source": [
        "<a href=\"https://colab.research.google.com/github/MarriRohan/Reinforcement-Learning-2025/blob/main/Lab_05.ipynb\" target=\"_parent\"><img src=\"https://colab.research.google.com/assets/colab-badge.svg\" alt=\"Open In Colab\"/></a>"
      ]
    },
    {
      "cell_type": "code",
      "execution_count": null,
      "metadata": {
        "id": "xlTfBjpg1M4S"
      },
      "outputs": [],
      "source": []
    },
    {
      "cell_type": "markdown",
      "metadata": {
        "id": "64ad8319"
      },
      "source": [
        "# Task\n",
        "Implement Q-learning for the FrozenLake environment from OpenAI Gym in Python."
      ]
    },
    {
      "cell_type": "markdown",
      "metadata": {
        "id": "e0dc456f"
      },
      "source": [
        "## Install necessary libraries\n",
        "\n",
        "### Subtask:\n",
        "Install the `gym` library to access the OpenAI Gym environments.\n"
      ]
    },
    {
      "cell_type": "markdown",
      "metadata": {
        "id": "2ff5369b"
      },
      "source": [
        "**Reasoning**:\n",
        "The subtask requires installing the `gym` library, which can be done using pip.\n",
        "\n"
      ]
    },
    {
      "cell_type": "code",
      "metadata": {
        "colab": {
          "base_uri": "https://localhost:8080/"
        },
        "id": "87fdf20e",
        "outputId": "958fa287-0223-4740-a83c-c7b6d6fd3e7f"
      },
      "source": [
        "%pip install gym"
      ],
      "execution_count": 1,
      "outputs": [
        {
          "output_type": "stream",
          "name": "stdout",
          "text": [
            "Requirement already satisfied: gym in /usr/local/lib/python3.12/dist-packages (0.25.2)\n",
            "Requirement already satisfied: numpy>=1.18.0 in /usr/local/lib/python3.12/dist-packages (from gym) (2.0.2)\n",
            "Requirement already satisfied: cloudpickle>=1.2.0 in /usr/local/lib/python3.12/dist-packages (from gym) (3.1.1)\n",
            "Requirement already satisfied: gym-notices>=0.0.4 in /usr/local/lib/python3.12/dist-packages (from gym) (0.1.0)\n"
          ]
        }
      ]
    },
    {
      "cell_type": "markdown",
      "metadata": {
        "id": "0b27004e"
      },
      "source": [
        "## Set up the environment\n",
        "\n",
        "### Subtask:\n",
        "Import and set up the FrozenLake environment.\n"
      ]
    },
    {
      "cell_type": "markdown",
      "metadata": {
        "id": "07f8d2ad"
      },
      "source": [
        "**Reasoning**:\n",
        "Import the gym library and create a FrozenLake environment instance.\n",
        "\n"
      ]
    },
    {
      "cell_type": "code",
      "metadata": {
        "colab": {
          "base_uri": "https://localhost:8080/"
        },
        "id": "7a9042d4",
        "outputId": "b924cbcd-c11f-49c7-eeff-6fb6300fa475"
      },
      "source": [
        "import gym\n",
        "\n",
        "env = gym.make('FrozenLake-v1', is_slippery=False)\n",
        "print(\"Environment created successfully.\")"
      ],
      "execution_count": 2,
      "outputs": [
        {
          "output_type": "stream",
          "name": "stdout",
          "text": [
            "Environment created successfully.\n"
          ]
        },
        {
          "output_type": "stream",
          "name": "stderr",
          "text": [
            "Gym has been unmaintained since 2022 and does not support NumPy 2.0 amongst other critical functionality.\n",
            "Please upgrade to Gymnasium, the maintained drop-in replacement of Gym, or contact the authors of your software and request that they upgrade.\n",
            "See the migration guide at https://gymnasium.farama.org/introduction/migration_guide/ for additional information.\n",
            "/usr/local/lib/python3.12/dist-packages/gym/core.py:317: DeprecationWarning: \u001b[33mWARN: Initializing wrapper in old step API which returns one bool instead of two. It is recommended to set `new_step_api=True` to use new step API. This will be the default behaviour in future.\u001b[0m\n",
            "  deprecation(\n",
            "/usr/local/lib/python3.12/dist-packages/gym/wrappers/step_api_compatibility.py:39: DeprecationWarning: \u001b[33mWARN: Initializing environment in old step API which returns one bool instead of two. It is recommended to set `new_step_api=True` to use new step API. This will be the default behaviour in future.\u001b[0m\n",
            "  deprecation(\n",
            "/usr/local/lib/python3.12/dist-packages/jupyter_client/session.py:151: DeprecationWarning: datetime.datetime.utcnow() is deprecated and scheduled for removal in a future version. Use timezone-aware objects to represent datetimes in UTC: datetime.datetime.now(datetime.UTC).\n",
            "  return datetime.utcnow().replace(tzinfo=utc)\n"
          ]
        }
      ]
    },
    {
      "cell_type": "markdown",
      "metadata": {
        "id": "fda69f5b"
      },
      "source": [
        "## Initialize the q-table\n",
        "\n",
        "### Subtask:\n",
        "Create and initialize a Q-table (a NumPy array) with zeros or random values. The dimensions of the Q-table will be (number of states, number of actions).\n"
      ]
    },
    {
      "cell_type": "markdown",
      "metadata": {
        "id": "56f6b936"
      },
      "source": [
        "**Reasoning**:\n",
        "Create and initialize the Q-table with zeros using the number of states and actions from the environment.\n",
        "\n"
      ]
    },
    {
      "cell_type": "code",
      "metadata": {
        "colab": {
          "base_uri": "https://localhost:8080/"
        },
        "id": "e7e43ce6",
        "outputId": "92dd55ba-b314-4b4b-ed23-423e1ce4b299"
      },
      "source": [
        "import numpy as np\n",
        "\n",
        "n_states = env.observation_space.n\n",
        "n_actions = env.action_space.n\n",
        "q_table = np.zeros((n_states, n_actions))\n",
        "\n",
        "print(q_table.shape)"
      ],
      "execution_count": 3,
      "outputs": [
        {
          "output_type": "stream",
          "name": "stdout",
          "text": [
            "(16, 4)\n"
          ]
        }
      ]
    },
    {
      "cell_type": "markdown",
      "metadata": {
        "id": "1a846a78"
      },
      "source": [
        "## Implement the q-learning algorithm\n",
        "\n",
        "### Subtask:\n",
        "Implement the q-learning algorithm.\n"
      ]
    },
    {
      "cell_type": "markdown",
      "metadata": {
        "id": "7755299c"
      },
      "source": [
        "**Reasoning**:\n",
        "Implement the main Q-learning training loop, including episode iteration, action selection using epsilon-greedy policy, Q-value update, and epsilon decay as per the instructions.\n",
        "\n"
      ]
    },
    {
      "cell_type": "code",
      "metadata": {
        "colab": {
          "base_uri": "https://localhost:8080/",
          "height": 211
        },
        "id": "b8e008b5",
        "outputId": "41f8d5ce-8a93-4a3f-d80a-b761f7715737"
      },
      "source": [
        "# Define hyperparameters\n",
        "alpha = 0.1  # Learning rate\n",
        "gamma = 0.6  # Discount factor\n",
        "epsilon = 0.1  # Exploration rate\n",
        "n_episodes = 10000  # Number of training episodes\n",
        "epsilon_decay_rate = 0.99\n",
        "\n",
        "# Training loop\n",
        "for episode in range(n_episodes):\n",
        "    state = env.reset()[0]  # Reset environment and get initial state\n",
        "\n",
        "    done = False\n",
        "    while not done:\n",
        "        # Epsilon-greedy policy\n",
        "        if np.random.uniform(0, 1) < epsilon:\n",
        "            action = env.action_space.sample()  # Explore action space\n",
        "        else:\n",
        "            action = np.argmax(q_table[state, :])  # Exploit learned values\n",
        "\n",
        "        # Take action and observe reward and next state\n",
        "        next_state, reward, done, _, _ = env.step(action)\n",
        "\n",
        "        # Q-learning update\n",
        "        q_table[state, action] = q_table[state, action] + alpha * (reward + gamma * np.max(q_table[next_state, :]) - q_table[state, action])\n",
        "\n",
        "        # Update current state\n",
        "        state = next_state\n",
        "\n",
        "    # Decay epsilon\n",
        "    epsilon *= epsilon_decay_rate\n",
        "\n",
        "print(\"Training finished.\")"
      ],
      "execution_count": 4,
      "outputs": [
        {
          "output_type": "error",
          "ename": "TypeError",
          "evalue": "'int' object is not subscriptable",
          "traceback": [
            "\u001b[0;31m---------------------------------------------------------------------------\u001b[0m",
            "\u001b[0;31mTypeError\u001b[0m                                 Traceback (most recent call last)",
            "\u001b[0;32m/tmp/ipython-input-4201729799.py\u001b[0m in \u001b[0;36m<cell line: 0>\u001b[0;34m()\u001b[0m\n\u001b[1;32m      8\u001b[0m \u001b[0;31m# Training loop\u001b[0m\u001b[0;34m\u001b[0m\u001b[0;34m\u001b[0m\u001b[0m\n\u001b[1;32m      9\u001b[0m \u001b[0;32mfor\u001b[0m \u001b[0mepisode\u001b[0m \u001b[0;32min\u001b[0m \u001b[0mrange\u001b[0m\u001b[0;34m(\u001b[0m\u001b[0mn_episodes\u001b[0m\u001b[0;34m)\u001b[0m\u001b[0;34m:\u001b[0m\u001b[0;34m\u001b[0m\u001b[0;34m\u001b[0m\u001b[0m\n\u001b[0;32m---> 10\u001b[0;31m     \u001b[0mstate\u001b[0m \u001b[0;34m=\u001b[0m \u001b[0menv\u001b[0m\u001b[0;34m.\u001b[0m\u001b[0mreset\u001b[0m\u001b[0;34m(\u001b[0m\u001b[0;34m)\u001b[0m\u001b[0;34m[\u001b[0m\u001b[0;36m0\u001b[0m\u001b[0;34m]\u001b[0m  \u001b[0;31m# Reset environment and get initial state\u001b[0m\u001b[0;34m\u001b[0m\u001b[0;34m\u001b[0m\u001b[0m\n\u001b[0m\u001b[1;32m     11\u001b[0m \u001b[0;34m\u001b[0m\u001b[0m\n\u001b[1;32m     12\u001b[0m     \u001b[0mdone\u001b[0m \u001b[0;34m=\u001b[0m \u001b[0;32mFalse\u001b[0m\u001b[0;34m\u001b[0m\u001b[0;34m\u001b[0m\u001b[0m\n",
            "\u001b[0;31mTypeError\u001b[0m: 'int' object is not subscriptable"
          ]
        }
      ]
    },
    {
      "cell_type": "markdown",
      "metadata": {
        "id": "0723d7b6"
      },
      "source": [
        "**Reasoning**:\n",
        "The error `TypeError: 'int' object is not subscriptable` in `state = env.reset()[0]` indicates that `env.reset()` is returning an integer instead of a tuple or list from which we can extract the state. This is likely due to a change in the gym API. I need to update how the state is retrieved from `env.reset()`. I will also regenerate the full code block to fix this error.\n",
        "\n"
      ]
    },
    {
      "cell_type": "code",
      "metadata": {
        "colab": {
          "base_uri": "https://localhost:8080/",
          "height": 211
        },
        "id": "KopCM7af4WIA",
        "outputId": "fc82fc5c-d751-4667-d634-12a5f39f85b8"
      },
      "source": [
        "# Define hyperparameters\n",
        "alpha = 0.1  # Learning rate\n",
        "gamma = 0.6  # Discount factor\n",
        "epsilon = 0.1  # Exploration rate\n",
        "n_episodes = 10000  # Number of training episodes\n",
        "epsilon_decay_rate = 0.99\n",
        "\n",
        "# Training loop\n",
        "for episode in range(n_episodes):\n",
        "    # Reset environment and get initial state - Handle API change\n",
        "    state, info = env.reset()\n",
        "\n",
        "    done = False\n",
        "    while not done:\n",
        "        # Epsilon-greedy policy\n",
        "        if np.random.uniform(0, 1) < epsilon:\n",
        "            action = env.action_space.sample()  # Explore action space\n",
        "        else:\n",
        "            action = np.argmax(q_table[state, :])  # Exploit learned values\n",
        "\n",
        "        # Take action and observe reward and next state\n",
        "        next_state, reward, done, truncated, info = env.step(action)\n",
        "\n",
        "        # Q-learning update\n",
        "        q_table[state, action] = q_table[state, action] + alpha * (reward + gamma * np.max(q_table[next_state, :]) - q_table[state, action])\n",
        "\n",
        "        # Update current state\n",
        "        state = next_state\n",
        "\n",
        "    # Decay epsilon\n",
        "    epsilon *= epsilon_decay_rate\n",
        "\n",
        "print(\"Training finished.\")"
      ],
      "execution_count": 5,
      "outputs": [
        {
          "output_type": "error",
          "ename": "TypeError",
          "evalue": "cannot unpack non-iterable int object",
          "traceback": [
            "\u001b[0;31m---------------------------------------------------------------------------\u001b[0m",
            "\u001b[0;31mTypeError\u001b[0m                                 Traceback (most recent call last)",
            "\u001b[0;32m/tmp/ipython-input-1230540133.py\u001b[0m in \u001b[0;36m<cell line: 0>\u001b[0;34m()\u001b[0m\n\u001b[1;32m      9\u001b[0m \u001b[0;32mfor\u001b[0m \u001b[0mepisode\u001b[0m \u001b[0;32min\u001b[0m \u001b[0mrange\u001b[0m\u001b[0;34m(\u001b[0m\u001b[0mn_episodes\u001b[0m\u001b[0;34m)\u001b[0m\u001b[0;34m:\u001b[0m\u001b[0;34m\u001b[0m\u001b[0;34m\u001b[0m\u001b[0m\n\u001b[1;32m     10\u001b[0m     \u001b[0;31m# Reset environment and get initial state - Handle API change\u001b[0m\u001b[0;34m\u001b[0m\u001b[0;34m\u001b[0m\u001b[0m\n\u001b[0;32m---> 11\u001b[0;31m     \u001b[0mstate\u001b[0m\u001b[0;34m,\u001b[0m \u001b[0minfo\u001b[0m \u001b[0;34m=\u001b[0m \u001b[0menv\u001b[0m\u001b[0;34m.\u001b[0m\u001b[0mreset\u001b[0m\u001b[0;34m(\u001b[0m\u001b[0;34m)\u001b[0m\u001b[0;34m\u001b[0m\u001b[0;34m\u001b[0m\u001b[0m\n\u001b[0m\u001b[1;32m     12\u001b[0m \u001b[0;34m\u001b[0m\u001b[0m\n\u001b[1;32m     13\u001b[0m     \u001b[0mdone\u001b[0m \u001b[0;34m=\u001b[0m \u001b[0;32mFalse\u001b[0m\u001b[0;34m\u001b[0m\u001b[0;34m\u001b[0m\u001b[0m\n",
            "\u001b[0;31mTypeError\u001b[0m: cannot unpack non-iterable int object"
          ]
        }
      ]
    },
    {
      "cell_type": "markdown",
      "metadata": {
        "id": "2534bc31"
      },
      "source": [
        "**Reasoning**:\n",
        "The error `TypeError: cannot unpack non-iterable int object` in `state, info = env.reset()` indicates that `env.reset()` is still returning just an integer state, not a tuple containing state and info. This means the previous fix for the API change was incorrect for this specific gym version or environment. I will try retrieving the state directly from `env.reset()` without attempting to unpack, and regenerate the full code block with this fix.\n",
        "\n"
      ]
    },
    {
      "cell_type": "code",
      "metadata": {
        "colab": {
          "base_uri": "https://localhost:8080/"
        },
        "id": "YDoECAQS4X_h",
        "outputId": "4c3b2cd4-4748-4cc4-ba99-0d4caf98a2a9"
      },
      "source": [
        "# Define hyperparameters\n",
        "alpha = 0.1  # Learning rate\n",
        "gamma = 0.6  # Discount factor\n",
        "epsilon = 0.1  # Exploration rate\n",
        "n_episodes = 10000  # Number of training episodes\n",
        "epsilon_decay_rate = 0.99\n",
        "\n",
        "# Training loop\n",
        "for episode in range(n_episodes):\n",
        "    # Reset environment and get initial state - Handle API change\n",
        "    # Based on previous attempts, env.reset() returns just the state directly\n",
        "    state = env.reset()\n",
        "\n",
        "    done = False\n",
        "    while not done:\n",
        "        # Epsilon-greedy policy\n",
        "        if np.random.uniform(0, 1) < epsilon:\n",
        "            action = env.action_space.sample()  # Explore action space\n",
        "        else:\n",
        "            action = np.argmax(q_table[state, :])  # Exploit learned values\n",
        "\n",
        "        # Take action and observe reward and next state\n",
        "        # Based on the error, env.step() returns 4 values: next_state, reward, done, info\n",
        "        next_state, reward, done, info = env.step(action)\n",
        "\n",
        "        # Q-learning update\n",
        "        # Ensure next_state is treated as an integer index if needed\n",
        "        if isinstance(next_state, np.ndarray):\n",
        "            next_state = next_state.item() # Convert numpy array state to scalar if necessary\n",
        "\n",
        "\n",
        "        q_table[state, action] = q_table[state, action] + alpha * (reward + gamma * np.max(q_table[next_state, :]) - q_table[state, action])\n",
        "\n",
        "        # Update current state\n",
        "        state = next_state\n",
        "\n",
        "    # Decay epsilon\n",
        "    epsilon *= epsilon_decay_rate\n",
        "\n",
        "print(\"Training finished.\")"
      ],
      "execution_count": 14,
      "outputs": [
        {
          "output_type": "stream",
          "name": "stdout",
          "text": [
            "Training finished.\n"
          ]
        }
      ]
    },
    {
      "cell_type": "markdown",
      "metadata": {
        "id": "65e21ed0"
      },
      "source": [
        "## Implement the q-learning algorithm - retry 1\n",
        "\n",
        "### Subtask:\n",
        "Implement the q-learning algorithm.\n"
      ]
    },
    {
      "cell_type": "markdown",
      "metadata": {
        "id": "ee464b06"
      },
      "source": [
        "**Reasoning**:\n",
        "The previous attempt failed due to a NumPy version incompatibility with the Gym library. To fix this, I will try installing a specific, older version of NumPy known to be compatible with the gym version being used (0.25.2). After installing the compatible NumPy version, I will re-run the Q-learning algorithm implementation code.\n",
        "\n"
      ]
    },
    {
      "cell_type": "code",
      "metadata": {
        "colab": {
          "base_uri": "https://localhost:8080/",
          "height": 523
        },
        "id": "f0479fe2",
        "outputId": "96c1a5fb-adbe-4e58-bb6a-dd59dcd05b1d"
      },
      "source": [
        "%pip install numpy==1.23.5\n",
        "\n",
        "# Define hyperparameters\n",
        "alpha = 0.1  # Learning rate\n",
        "gamma = 0.6  # Discount factor\n",
        "epsilon = 0.1  # Exploration rate\n",
        "n_episodes = 10000  # Number of training episodes\n",
        "epsilon_decay_rate = 0.99\n",
        "\n",
        "# Training loop\n",
        "for episode in range(n_episodes):\n",
        "    # Reset environment and get initial state - Handle API change\n",
        "    # Based on previous attempts, env.reset() returns just the state directly\n",
        "    state = env.reset()\n",
        "\n",
        "    done = False\n",
        "    while not done:\n",
        "        # Epsilon-greedy policy\n",
        "        if np.random.uniform(0, 1) < epsilon:\n",
        "            action = env.action_space.sample()  # Explore action space\n",
        "        else:\n",
        "            action = np.argmax(q_table[state, :])  # Exploit learned values\n",
        "\n",
        "        # Take action and observe reward and next state\n",
        "        # Based on previous attempts, env.step() returns next_state, reward, done, truncated, info\n",
        "        next_state, reward, done, truncated, info = env.step(action)\n",
        "\n",
        "        # Q-learning update\n",
        "        q_table[state, action] = q_table[state, action] + alpha * (reward + gamma * np.max(q_table[next_state, :]) - q_table[state, action])\n",
        "\n",
        "        # Update current state\n",
        "        state = next_state\n",
        "\n",
        "    # Decay epsilon\n",
        "    epsilon *= epsilon_decay_rate\n",
        "\n",
        "print(\"Training finished.\")"
      ],
      "execution_count": 15,
      "outputs": [
        {
          "output_type": "stream",
          "name": "stdout",
          "text": [
            "Collecting numpy==1.23.5\n",
            "  Using cached numpy-1.23.5.tar.gz (10.7 MB)\n",
            "  Installing build dependencies ... \u001b[?25l\u001b[?25hdone\n",
            "  \u001b[1;31merror\u001b[0m: \u001b[1msubprocess-exited-with-error\u001b[0m\n",
            "  \n",
            "  \u001b[31m×\u001b[0m \u001b[32mGetting requirements to build wheel\u001b[0m did not run successfully.\n",
            "  \u001b[31m│\u001b[0m exit code: \u001b[1;36m1\u001b[0m\n",
            "  \u001b[31m╰─>\u001b[0m See above for output.\n",
            "  \n",
            "  \u001b[1;35mnote\u001b[0m: This error originates from a subprocess, and is likely not a problem with pip.\n",
            "  Getting requirements to build wheel ... \u001b[?25l\u001b[?25herror\n",
            "\u001b[1;31merror\u001b[0m: \u001b[1msubprocess-exited-with-error\u001b[0m\n",
            "\n",
            "\u001b[31m×\u001b[0m \u001b[32mGetting requirements to build wheel\u001b[0m did not run successfully.\n",
            "\u001b[31m│\u001b[0m exit code: \u001b[1;36m1\u001b[0m\n",
            "\u001b[31m╰─>\u001b[0m See above for output.\n",
            "\n",
            "\u001b[1;35mnote\u001b[0m: This error originates from a subprocess, and is likely not a problem with pip.\n"
          ]
        },
        {
          "output_type": "error",
          "ename": "ValueError",
          "evalue": "not enough values to unpack (expected 5, got 4)",
          "traceback": [
            "\u001b[0;31m---------------------------------------------------------------------------\u001b[0m",
            "\u001b[0;31mValueError\u001b[0m                                Traceback (most recent call last)",
            "\u001b[0;32m/tmp/ipython-input-2823656420.py\u001b[0m in \u001b[0;36m<cell line: 0>\u001b[0;34m()\u001b[0m\n\u001b[1;32m     24\u001b[0m         \u001b[0;31m# Take action and observe reward and next state\u001b[0m\u001b[0;34m\u001b[0m\u001b[0;34m\u001b[0m\u001b[0m\n\u001b[1;32m     25\u001b[0m         \u001b[0;31m# Based on previous attempts, env.step() returns next_state, reward, done, truncated, info\u001b[0m\u001b[0;34m\u001b[0m\u001b[0;34m\u001b[0m\u001b[0m\n\u001b[0;32m---> 26\u001b[0;31m         \u001b[0mnext_state\u001b[0m\u001b[0;34m,\u001b[0m \u001b[0mreward\u001b[0m\u001b[0;34m,\u001b[0m \u001b[0mdone\u001b[0m\u001b[0;34m,\u001b[0m \u001b[0mtruncated\u001b[0m\u001b[0;34m,\u001b[0m \u001b[0minfo\u001b[0m \u001b[0;34m=\u001b[0m \u001b[0menv\u001b[0m\u001b[0;34m.\u001b[0m\u001b[0mstep\u001b[0m\u001b[0;34m(\u001b[0m\u001b[0maction\u001b[0m\u001b[0;34m)\u001b[0m\u001b[0;34m\u001b[0m\u001b[0;34m\u001b[0m\u001b[0m\n\u001b[0m\u001b[1;32m     27\u001b[0m \u001b[0;34m\u001b[0m\u001b[0m\n\u001b[1;32m     28\u001b[0m         \u001b[0;31m# Q-learning update\u001b[0m\u001b[0;34m\u001b[0m\u001b[0;34m\u001b[0m\u001b[0m\n",
            "\u001b[0;31mValueError\u001b[0m: not enough values to unpack (expected 5, got 4)"
          ]
        }
      ]
    },
    {
      "cell_type": "markdown",
      "metadata": {
        "id": "e96cdce4"
      },
      "source": [
        "**Reasoning**:\n",
        "The installation of NumPy 1.23.5 failed, and the traceback shows a `ValueError` during `env.step(action)` because it's returning 4 values instead of the expected 5 (next_state, reward, done, truncated, info). This indicates that the Gym version being used is an older one where `step` returns only 4 values (next_state, reward, done, info). I need to adjust the unpacking of the `env.step()` return value to match what the environment actually returns.\n",
        "\n"
      ]
    },
    {
      "cell_type": "code",
      "metadata": {
        "colab": {
          "base_uri": "https://localhost:8080/"
        },
        "id": "kMpFZfFQ4jfx",
        "outputId": "d41ac6cc-11e2-422f-c48e-baf075be27fc"
      },
      "source": [
        "# Define hyperparameters\n",
        "alpha = 0.1  # Learning rate\n",
        "gamma = 0.6  # Discount factor\n",
        "epsilon = 0.1  # Exploration rate\n",
        "n_episodes = 10000  # Number of training episodes\n",
        "epsilon_decay_rate = 0.99\n",
        "\n",
        "# Training loop\n",
        "for episode in range(n_episodes):\n",
        "    # Reset environment and get initial state\n",
        "    # Based on previous attempts, env.reset() returns just the state directly\n",
        "    state = env.reset()\n",
        "\n",
        "    done = False\n",
        "    while not done:\n",
        "        # Epsilon-greedy policy\n",
        "        if np.random.uniform(0, 1) < epsilon:\n",
        "            action = env.action_space.sample()  # Explore action space\n",
        "        else:\n",
        "            action = np.argmax(q_table[state, :])  # Exploit learned values\n",
        "\n",
        "        # Take action and observe reward and next state\n",
        "        # Based on the error, env.step() returns 4 values: next_state, reward, done, info\n",
        "        next_state, reward, done, info = env.step(action)\n",
        "\n",
        "        # Q-learning update\n",
        "        # Ensure next_state is treated as an integer index if needed\n",
        "        if isinstance(next_state, np.ndarray):\n",
        "            next_state = next_state.item() # Convert numpy array state to scalar if necessary\n",
        "\n",
        "        q_table[state, action] = q_table[state, action] + alpha * (reward + gamma * np.max(q_table[next_state, :]) - q_table[state, action])\n",
        "\n",
        "        # Update current state\n",
        "        state = next_state\n",
        "\n",
        "    # Decay epsilon\n",
        "    epsilon *= epsilon_decay_rate\n",
        "\n",
        "print(\"Training finished.\")"
      ],
      "execution_count": 8,
      "outputs": [
        {
          "output_type": "stream",
          "name": "stdout",
          "text": [
            "Training finished.\n"
          ]
        }
      ]
    },
    {
      "cell_type": "markdown",
      "metadata": {
        "id": "d1490ac2"
      },
      "source": [
        "## Evaluate the agent\n",
        "\n",
        "### Subtask:\n",
        "After training, evaluate the agent's performance by running episodes with a greedy policy (no exploration) and observing the average reward or success rate.\n"
      ]
    },
    {
      "cell_type": "markdown",
      "metadata": {
        "id": "c9b3e51d"
      },
      "source": [
        "**Reasoning**:\n",
        "Implement the evaluation steps as described in the instructions, including setting epsilon to 0, running evaluation episodes, calculating average reward and success rate, and printing the results.\n",
        "\n"
      ]
    },
    {
      "cell_type": "code",
      "metadata": {
        "colab": {
          "base_uri": "https://localhost:8080/"
        },
        "id": "679c7a68",
        "outputId": "ca690462-5ffa-4817-a99e-d4c8b35fe7d6"
      },
      "source": [
        "# Step 1: Set epsilon to 0 for evaluation\n",
        "epsilon = 0.0\n",
        "\n",
        "# Step 2: Initialize tracking variables\n",
        "total_reward = 0\n",
        "successful_episodes = 0\n",
        "n_eval_episodes = 1000  # Step 3: Define number of evaluation episodes\n",
        "\n",
        "print(\"\\nStarting evaluation...\")\n",
        "\n",
        "# Step 4: Run evaluation loop\n",
        "for episode in range(n_eval_episodes):\n",
        "    # Reset environment\n",
        "    # Based on previous experience, env.reset() returns the state directly\n",
        "    state = env.reset()\n",
        "\n",
        "    done = False\n",
        "    episode_reward = 0\n",
        "\n",
        "    # Step loop\n",
        "    while not done:\n",
        "        # Step 4 (cont.): Choose greedy action\n",
        "        action = np.argmax(q_table[state, :])\n",
        "\n",
        "        # Step 4 (cont.): Take action\n",
        "        # Based on previous experience, env.step() returns 4 values\n",
        "        next_state, reward, done, info = env.step(action)\n",
        "\n",
        "        # Step 4 (cont.): Accumulate reward\n",
        "        episode_reward += reward\n",
        "\n",
        "        # Step 4 (cont.): Update state\n",
        "        state = next_state\n",
        "\n",
        "    # Step 4 (cont.): Check for success and accumulate total reward\n",
        "    if reward == 1.0:\n",
        "        successful_episodes += 1\n",
        "    total_reward += episode_reward\n",
        "\n",
        "# Step 5: Calculate metrics\n",
        "average_reward = total_reward / n_eval_episodes\n",
        "success_rate = successful_episodes / n_eval_episodes\n",
        "\n",
        "# Step 6: Print results\n",
        "print(f\"Evaluation finished after {n_eval_episodes} episodes.\")\n",
        "print(f\"Average reward per episode: {average_reward:.4f}\")\n",
        "print(f\"Success rate: {success_rate:.4f}\")"
      ],
      "execution_count": 9,
      "outputs": [
        {
          "output_type": "stream",
          "name": "stdout",
          "text": [
            "\n",
            "Starting evaluation...\n",
            "Evaluation finished after 1000 episodes.\n",
            "Average reward per episode: 0.0000\n",
            "Success rate: 0.0000\n"
          ]
        }
      ]
    },
    {
      "cell_type": "markdown",
      "metadata": {
        "id": "fa85dd2f"
      },
      "source": [
        "## Visualize results\n",
        "\n",
        "### Subtask:\n",
        "Optionally, visualize the learning progress by plotting metrics like cumulative reward per episode.\n"
      ]
    },
    {
      "cell_type": "markdown",
      "metadata": {
        "id": "ba2387f5"
      },
      "source": [
        "**Reasoning**:\n",
        "Import the necessary library for plotting and create a list to store cumulative rewards per episode.\n",
        "\n"
      ]
    },
    {
      "cell_type": "code",
      "metadata": {
        "id": "7abb6871"
      },
      "source": [
        "import matplotlib.pyplot as plt\n",
        "\n",
        "# Create a list to store cumulative rewards\n",
        "cumulative_rewards = []"
      ],
      "execution_count": 10,
      "outputs": []
    },
    {
      "cell_type": "markdown",
      "metadata": {
        "id": "4128f542"
      },
      "source": [
        "**Reasoning**:\n",
        "Modify the training loop to append the cumulative reward for each episode to the `cumulative_rewards` list.\n",
        "\n"
      ]
    },
    {
      "cell_type": "code",
      "metadata": {
        "colab": {
          "base_uri": "https://localhost:8080/"
        },
        "id": "6dfe397b",
        "outputId": "634d6a9e-b4a3-428e-daf1-99b0cf1c456a"
      },
      "source": [
        "# Define hyperparameters (re-defining for clarity in this step, assume they are the same as before)\n",
        "alpha = 0.1\n",
        "gamma = 0.6\n",
        "epsilon = 0.1\n",
        "n_episodes = 10000\n",
        "epsilon_decay_rate = 0.99\n",
        "\n",
        "# Training loop\n",
        "for episode in range(n_episodes):\n",
        "    state = env.reset()\n",
        "    done = False\n",
        "    episode_reward = 0  # Initialize reward for the current episode\n",
        "\n",
        "    while not done:\n",
        "        if np.random.uniform(0, 1) < epsilon:\n",
        "            action = env.action_space.sample()  # Explore\n",
        "        else:\n",
        "            action = np.argmax(q_table[state, :])  # Exploit\n",
        "\n",
        "        next_state, reward, done, info = env.step(action)\n",
        "\n",
        "        # Accumulate reward for the episode\n",
        "        episode_reward += reward\n",
        "\n",
        "        if isinstance(next_state, np.ndarray):\n",
        "            next_state = next_state.item()\n",
        "\n",
        "        q_table[state, action] = q_table[state, action] + alpha * (reward + gamma * np.max(q_table[next_state, :]) - q_table[state, action])\n",
        "\n",
        "        state = next_state\n",
        "\n",
        "    # Append the cumulative reward for the episode\n",
        "    cumulative_rewards.append(episode_reward)\n",
        "\n",
        "    # Decay epsilon\n",
        "    epsilon *= epsilon_decay_rate\n",
        "\n",
        "print(\"Training finished.\")"
      ],
      "execution_count": 11,
      "outputs": [
        {
          "output_type": "stream",
          "name": "stdout",
          "text": [
            "Training finished.\n"
          ]
        }
      ]
    },
    {
      "cell_type": "markdown",
      "metadata": {
        "id": "fd977309"
      },
      "source": [
        "**Reasoning**:\n",
        "Plot the cumulative rewards over episodes, add labels and a title, and display the plot.\n",
        "\n"
      ]
    },
    {
      "cell_type": "code",
      "metadata": {
        "colab": {
          "base_uri": "https://localhost:8080/",
          "height": 564
        },
        "id": "c8c483e5",
        "outputId": "d56ad613-ec1b-4b8c-a8b9-fd8bfa8ee3d8"
      },
      "source": [
        "# Plot the cumulative reward per episode\n",
        "plt.figure(figsize=(12, 6))\n",
        "plt.plot(cumulative_rewards)\n",
        "plt.title(\"Q-learning Training Progress: Cumulative Reward per Episode\")\n",
        "plt.xlabel(\"Episode\")\n",
        "plt.ylabel(\"Cumulative Reward\")\n",
        "plt.grid(True)\n",
        "plt.show()\n",
        "\n",
        "# Brief analysis\n",
        "# The plot shows the cumulative reward obtained in each episode during training.\n",
        "# Observing the trend can indicate whether the agent is learning effectively.\n",
        "# An upward trend would suggest learning progress, while plateaus or fluctuations might indicate slower learning or challenges in the environment."
      ],
      "execution_count": 12,
      "outputs": [
        {
          "output_type": "display_data",
          "data": {
            "text/plain": [
              "<Figure size 1200x600 with 1 Axes>"
            ],
            "image/png": "[encoded data removed]"
          },
          "metadata": {}
        }
      ]
    },
    {
      "cell_type": "markdown",
      "metadata": {
        "id": "bb135260"
      },
      "source": [
        "## Summary:\n",
        "\n",
        "### Data Analysis Key Findings\n",
        "\n",
        "*   The FrozenLake environment 'FrozenLake-v1' with `is_slippery=False` has 16 states and 4 possible actions.\n",
        "*   The Q-table was successfully initialized as a NumPy array of shape (16, 4) with all values set to zero.\n",
        "*   The Q-learning algorithm was implemented using a learning rate ($\\alpha$) of 0.1, a discount factor ($\\gamma$) of 0.6, an initial exploration rate ($\\epsilon$) of 0.1, and an epsilon decay rate of 0.99 over 10,000 training episodes.\n",
        "*   During the training phase, the code was adjusted to handle the specific API of the Gym environment version in use, where `env.reset()` returns the state directly and `env.step()` returns 4 values (`next_state`, `reward`, `done`, `info`).\n",
        "*   After training, the agent's performance was evaluated over 1000 episodes using a greedy policy ($\\epsilon = 0$).\n",
        "*   The evaluation showed an average reward of 0.0000 and a success rate of 0.0000, indicating that the agent did not reach the goal in any of the evaluated episodes.\n",
        "*   A plot of cumulative reward per episode was generated, which would visually represent the agent's learning progress (or lack thereof) over the 10,000 training episodes.\n",
        "\n",
        "### Insights or Next Steps\n",
        "\n",
        "*   The agent did not learn an effective policy to reach the goal in the non-slippery FrozenLake environment based on the evaluation results. This suggests the current hyperparameters or training duration may not be sufficient, or there might be an issue with the Q-learning update logic or state/action representation for this specific environment configuration.\n",
        "*   Next steps should involve debugging the Q-learning implementation, experimenting with different hyperparameters (e.g., higher learning rate, different discount factor, different epsilon decay schedule), increasing the number of training episodes, or potentially using a different reinforcement learning algorithm if Q-learning proves insufficient for this deterministic environment.\n"
      ]
    },
    {
      "cell_type": "code",
      "source": [
        "import math\n",
        "import random\n",
        "from collections import defaultdict\n",
        "import numpy as np\n",
        "\n",
        "# --- Gym / Gymnasium compatibility ---\n",
        "try:\n",
        "    import gymnasium as gym\n",
        "    from gymnasium.wrappers import TimeLimit\n",
        "except ImportError:\n",
        "    import gym\n",
        "    from gym.wrappers import TimeLimit\n",
        "\n",
        "# ---------------------------------------------------------\n",
        "# Utility: seed everything for reproducibility\n",
        "# ---------------------------------------------------------\n",
        "def set_seed(seed=42):\n",
        "    random.seed(seed)\n",
        "    np.random.seed(seed)\n",
        "    try:\n",
        "        import torch\n",
        "        torch.manual_seed(seed)\n",
        "    except Exception:\n",
        "        pass\n",
        "\n",
        "# ---------------------------------------------------------\n",
        "# Q-Learning Agent for Discrete State/Action spaces\n",
        "# ---------------------------------------------------------\n",
        "class QLearningAgent:\n",
        "    def __init__(\n",
        "        self,\n",
        "        n_states: int,\n",
        "        n_actions: int,\n",
        "        alpha: float = 0.8,     # learning rate\n",
        "        gamma: float = 0.99,    # discount\n",
        "        epsilon: float = 1.0,   # start exploration\n",
        "        epsilon_min: float = 0.05,\n",
        "        epsilon_decay: float = 0.995\n",
        "    ):\n",
        "        self.n_states = n_states\n",
        "        self.n_actions = n_actions\n",
        "        self.Q = np.zeros((n_states, n_actions), dtype=np.float32)\n",
        "        self.alpha = alpha\n",
        "        self.gamma = gamma\n",
        "        self.epsilon = epsilon\n",
        "        self.epsilon_min = epsilon_min\n",
        "        self.epsilon_decay = epsilon_decay\n",
        "\n",
        "    def policy(self, state: int) -> int:\n",
        "        \"\"\"Epsilon-greedy policy.\"\"\"\n",
        "        if np.random.rand() < self.epsilon:\n",
        "            return np.random.randint(self.n_actions)\n",
        "        return int(np.argmax(self.Q[state]))\n",
        "\n",
        "    def update(self, s, a, r, s_next, done):\n",
        "        \"\"\"Tabular Q-learning update.\"\"\"\n",
        "        best_next = 0.0 if done else np.max(self.Q[s_next])\n",
        "        td_target = r + self.gamma * best_next\n",
        "        self.Q[s, a] += self.alpha * (td_target - self.Q[s, a])\n",
        "\n",
        "    def decay_epsilon(self):\n",
        "        self.epsilon = max(self.epsilon_min, self.epsilon * self.epsilon_decay)\n",
        "\n",
        "# ---------------------------------------------------------\n",
        "# Environment helpers (discrete only)\n",
        "# ---------------------------------------------------------\n",
        "def make_env(env_id: str, seed: int = 42, **env_kwargs):\n",
        "    \"\"\"Creates a gym/gymnasium env with a TimeLimit if needed.\"\"\"\n",
        "    env = gym.make(env_id, **env_kwargs)\n",
        "    # Newer Gymnasium uses env.reset(seed=...), Gym classic has env.seed\n",
        "    try:\n",
        "        env.reset(seed=seed)\n",
        "    except TypeError:\n",
        "        try:\n",
        "            env.seed(seed)\n",
        "        except Exception:\n",
        "            pass\n",
        "\n",
        "    # Wrap with TimeLimit if not present\n",
        "    has_timelimit = isinstance(env, TimeLimit) or any(\n",
        "        isinstance(w, TimeLimit) for w in getattr(env, \"env\", []).__class__.__mro__\n",
        "    )\n",
        "    if not has_timelimit:\n",
        "        # sensible caps\n",
        "        default_caps = {\n",
        "            \"FrozenLake-v1\": 100,\n",
        "            \"Taxi-v3\": 200,\n",
        "        }\n",
        "        max_steps = default_caps.get(env_id, 200)\n",
        "        env = TimeLimit(env, max_episode_steps=max_steps)\n",
        "\n",
        "    # infer sizes\n",
        "    n_actions = env.action_space.n\n",
        "    # Gymnasium often exposes observation_space.n; discrete assumed.\n",
        "    try:\n",
        "        n_states = env.observation_space.n\n",
        "    except AttributeError:\n",
        "        # Some wrappers may hide .n; try to probe\n",
        "        # For classic discrete envs this should not trigger.\n",
        "        raise ValueError(\"This template expects a discrete observation space with .n\")\n",
        "    return env, n_states, n_actions\n",
        "\n",
        "# ---------------------------------------------------------\n",
        "# State representation helpers (for insight/interpretation)\n",
        "# ---------------------------------------------------------\n",
        "def frozenlake_coords(state: int, desc_rows: int, desc_cols: int):\n",
        "    \"\"\"Map a FrozenLake state index to (row, col).\"\"\"\n",
        "    r = state // desc_cols\n",
        "    c = state % desc_cols\n",
        "    return (int(r), int(c))\n",
        "\n",
        "def taxi_decode_state(state: int):\n",
        "    \"\"\"\n",
        "    Decode Taxi-v3's integer state into (taxi_row, taxi_col, passenger_loc, destination).\n",
        "    From Taxi's source: 500 states = 25 taxi positions * 5 passenger locations * 4 destinations.\n",
        "    \"\"\"\n",
        "    # reverse of: state = ((taxi_row * 5 + taxi_col) * 5 + passenger_location) * 4 + destination\n",
        "    dest = state % 4\n",
        "    state //= 4\n",
        "    pass_loc = state % 5\n",
        "    state //= 5\n",
        "    taxi_col = state % 5\n",
        "    state //= 5\n",
        "    taxi_row = state\n",
        "    return int(taxi_row), int(taxi_col), int(pass_loc), int(dest)\n",
        "\n",
        "# ---------------------------------------------------------\n",
        "# Train & evaluate\n",
        "# ---------------------------------------------------------\n",
        "def train_q_learning(\n",
        "    env_id: str,\n",
        "    episodes: int = 5000,\n",
        "    max_steps: int | None = None,\n",
        "    seed: int = 42,\n",
        "    **env_kwargs\n",
        "):\n",
        "    set_seed(seed)\n",
        "    env, n_states, n_actions = make_env(env_id, seed=seed, **env_kwargs)\n",
        "    agent = QLearningAgent(\n",
        "        n_states=n_states,\n",
        "        n_actions=n_actions,\n",
        "        alpha=0.8 if \"FrozenLake\" in env_id else 0.7,\n",
        "        gamma=0.99,\n",
        "        epsilon=1.0,\n",
        "        epsilon_min=0.05,\n",
        "        epsilon_decay=0.997 if \"FrozenLake\" in env_id else 0.995,\n",
        "    )\n",
        "\n",
        "    ep_returns = []\n",
        "    success_flags = []\n",
        "    for ep in range(episodes):\n",
        "        # Gymnasium: reset returns (obs, info); Gym classic: obs\n",
        "        reset_out = env.reset()\n",
        "        if isinstance(reset_out, tuple):\n",
        "            state, _ = reset_out\n",
        "        else:\n",
        "            state = reset_out\n",
        "\n",
        "        total_reward = 0.0\n",
        "        done = False\n",
        "\n",
        "        steps = 0\n",
        "        while not done:\n",
        "            a = agent.policy(state)\n",
        "            step_out = env.step(a)\n",
        "            if len(step_out) == 5:  # gymnasium: (obs, reward, terminated, truncated, info)\n",
        "                next_state, reward, terminated, truncated, info = step_out\n",
        "                done = terminated or truncated\n",
        "            else:  # gym classic: (obs, reward, done, info)\n",
        "                next_state, reward, done, info = step_out\n",
        "\n",
        "            agent.update(state, a, reward, next_state, done)\n",
        "            state = next_state\n",
        "            total_reward += reward\n",
        "            steps += 1\n",
        "            if max_steps and steps >= max_steps:\n",
        "                break\n",
        "\n",
        "        agent.decay_epsilon()\n",
        "        ep_returns.append(total_reward)\n",
        "\n",
        "        # Define \"success\": env-specific\n",
        "        # FrozenLake: reaching goal yields +1; Taxi: reward > 0 when successful dropoff before truncation\n",
        "        success = (total_reward > 0)\n",
        "        success_flags.append(1 if success else 0)\n",
        "\n",
        "        if (ep + 1) % max(1, episodes // 10) == 0:\n",
        "            last100 = np.mean(success_flags[-100:]) if len(success_flags) >= 100 else np.mean(success_flags)\n",
        "            print(f\"[{env_id}] Episode {ep+1}/{episodes} | \"\n",
        "                  f\"avg_return (last 100): {np.mean(ep_returns[-100:]):.3f} | \"\n",
        "                  f\"success_rate (last 100): {last100:.2%} | epsilon: {agent.epsilon:.3f}\")\n",
        "\n",
        "    return agent, ep_returns, success_flags, env\n",
        "\n",
        "def evaluate(agent: QLearningAgent, env, episodes: int = 20, render: bool = False):\n",
        "    returns = []\n",
        "    successes = 0\n",
        "    for ep in range(episodes):\n",
        "        reset_out = env.reset()\n",
        "        state = reset_out[0] if isinstance(reset_out, tuple) else reset_out\n",
        "        done = False\n",
        "        total = 0.0\n",
        "        while not done:\n",
        "            a = int(np.argmax(agent.Q[state]))  # greedy\n",
        "            step_out = env.step(a)\n",
        "            if len(step_out) == 5:\n",
        "                state, reward, terminated, truncated, _ = step_out\n",
        "                done = terminated or truncated\n",
        "            else:\n",
        "                state, reward, done, _ = step_out\n",
        "            total += reward\n",
        "            if render:\n",
        "                try:\n",
        "                    env.render()\n",
        "                except Exception:\n",
        "                    pass\n",
        "        returns.append(total)\n",
        "        if total > 0:\n",
        "            successes += 1\n",
        "    print(f\"Eval over {episodes} episodes -> \"\n",
        "          f\"avg_return: {np.mean(returns):.3f}, success_rate: {successes/episodes:.2%}\")\n",
        "    return returns\n",
        "\n",
        "# ---------------------------------------------------------\n",
        "# Demo runners\n",
        "# ---------------------------------------------------------\n",
        "def run_frozenlake(slippery=False, episodes=8000):\n",
        "    print(f\"\\n=== Training FrozenLake-v1 (slippery={slippery}) ===\")\n",
        "    # map_name examples: \"4x4\", \"8x8\" (Gymnasium)\n",
        "    agent, ep_returns, success_flags, env = train_q_learning(\n",
        "        \"FrozenLake-v1\",\n",
        "        is_slippery=slippery,\n",
        "        map_name=\"4x4\",\n",
        "        episodes=episodes,\n",
        "        seed=123\n",
        "    )\n",
        "\n",
        "    # Show how to interpret a random state:\n",
        "    try:\n",
        "        desc = env.unwrapped.desc\n",
        "        h, w = desc.shape\n",
        "        example_state = np.random.randint(env.observation_space.n)\n",
        "        print(\"FrozenLake representation example:\",\n",
        "              f\"state={example_state} -> coords={frozenlake_coords(example_state, h, w)} (row, col)\")\n",
        "    except Exception:\n",
        "        pass\n",
        "\n",
        "    evaluate(agent, env, episodes=50)\n",
        "    # quick greedy rollout print\n",
        "    print_sample_rollout(agent, env, decoder=\"frozenlake\")\n",
        "\n",
        "def run_taxi(episodes=5000):\n",
        "    print(\"\\n=== Training Taxi-v3 ===\")\n",
        "    agent, ep_returns, success_flags, env = train_q_learning(\n",
        "        \"Taxi-v3\",\n",
        "        episodes=episodes,\n",
        "        seed=7\n",
        "    )\n",
        "\n",
        "    # Decode a random state to a meaningful tuple\n",
        "    sample_state = np.random.randint(env.observation_space.n)\n",
        "    print(\"Taxi representation example:\",\n",
        "          f\"state={sample_state} -> (row, col, passenger_loc, destination)={taxi_decode_state(sample_state)}\")\n",
        "\n",
        "    evaluate(agent, env, episodes=50)\n",
        "    # quick greedy rollout print\n",
        "    print_sample_rollout(agent, env, decoder=\"taxi\")\n",
        "\n",
        "def print_sample_rollout(agent, env, max_steps=40, decoder=\"none\"):\n",
        "    print(\"\\n--- Greedy rollout (sample) ---\")\n",
        "    reset_out = env.reset()\n",
        "    state = reset_out[0] if isinstance(reset_out, tuple) else reset_out\n",
        "    total = 0.0\n",
        "    for t in range(max_steps):\n",
        "        a = int(np.argmax(agent.Q[state]))\n",
        "        step_out = env.step(a)\n",
        "        if len(step_out) == 5:\n",
        "            next_state, reward, terminated, truncated, info = step_out\n",
        "            done = terminated or truncated\n",
        "        else:\n",
        "            next_state, reward, done, info = step_out\n",
        "\n",
        "        # Human-readable state\n",
        "        if decoder == \"frozenlake\":\n",
        "            try:\n",
        "                desc = env.unwrapped.desc\n",
        "                h, w = desc.shape\n",
        "                coords = frozenlake_coords(state, h, w)\n",
        "                print(f\"t={t:02d} state={state:2d} (r,c)={coords} action={a} reward={reward}\")\n",
        "            except Exception:\n",
        "                print(f\"t={t:02d} state={state:2d} action={a} reward={reward}\")\n",
        "        elif decoder == \"taxi\":\n",
        "            print(f\"t={t:02d} state={state:3d} dec={taxi_decode_state(state)} action={a} reward={reward}\")\n",
        "        else:\n",
        "            print(f\"t={t:02d} state={state} action={a} reward={reward}\")\n",
        "\n",
        "        total += reward\n",
        "        state = next_state\n",
        "        if done:\n",
        "            break\n",
        "    print(f\"Total reward in rollout: {total}\\n\")\n",
        "\n",
        "# ---------------------------------------------------------\n",
        "# Main: choose which demo(s) to run\n",
        "# ---------------------------------------------------------\n",
        "if __name__ == \"__main__\":\n",
        "    # Train FrozenLake deterministic (easier) and slippery (harder)\n",
        "    run_frozenlake(slippery=False, episodes=6000)   # try 6k–12k for 4x4\n",
        "    run_frozenlake(slippery=True,  episodes=12000)  # slippery needs more episodes\n",
        "    # Train Taxi\n",
        "    run_taxi(episodes=6000)\n",
        ""
      ],
      "metadata": {
        "colab": {
          "base_uri": "https://localhost:8080/"
        },
        "id": "dDlrpt336lwt",
        "outputId": "68d49f60-ac15-48a9-c73b-4fbbfb94e42c"
      },
      "execution_count": 16,
      "outputs": [
        {
          "output_type": "stream",
          "name": "stdout",
          "text": [
            "\n",
            "=== Training FrozenLake-v1 (slippery=False) ===\n"
          ]
        },
        {
          "output_type": "stream",
          "name": "stderr",
          "text": [
            "/usr/local/lib/python3.12/dist-packages/jupyter_client/session.py:151: DeprecationWarning: datetime.datetime.utcnow() is deprecated and scheduled for removal in a future version. Use timezone-aware objects to represent datetimes in UTC: datetime.datetime.now(datetime.UTC).\n",
            "  return datetime.utcnow().replace(tzinfo=utc)\n"
          ]
        },
        {
          "output_type": "stream",
          "name": "stdout",
          "text": [
            "[FrozenLake-v1] Episode 600/6000 | avg_return (last 100): 0.840 | success_rate (last 100): 84.00% | epsilon: 0.165\n",
            "[FrozenLake-v1] Episode 1200/6000 | avg_return (last 100): 0.980 | success_rate (last 100): 98.00% | epsilon: 0.050\n"
          ]
        },
        {
          "output_type": "stream",
          "name": "stderr",
          "text": [
            "/usr/local/lib/python3.12/dist-packages/jupyter_client/session.py:151: DeprecationWarning: datetime.datetime.utcnow() is deprecated and scheduled for removal in a future version. Use timezone-aware objects to represent datetimes in UTC: datetime.datetime.now(datetime.UTC).\n",
            "  return datetime.utcnow().replace(tzinfo=utc)\n"
          ]
        },
        {
          "output_type": "stream",
          "name": "stdout",
          "text": [
            "[FrozenLake-v1] Episode 1800/6000 | avg_return (last 100): 0.940 | success_rate (last 100): 94.00% | epsilon: 0.050\n",
            "[FrozenLake-v1] Episode 2400/6000 | avg_return (last 100): 0.950 | success_rate (last 100): 95.00% | epsilon: 0.050\n",
            "[FrozenLake-v1] Episode 3000/6000 | avg_return (last 100): 0.910 | success_rate (last 100): 91.00% | epsilon: 0.050\n",
            "[FrozenLake-v1] Episode 3600/6000 | avg_return (last 100): 0.940 | success_rate (last 100): 94.00% | epsilon: 0.050\n",
            "[FrozenLake-v1] Episode 4200/6000 | avg_return (last 100): 0.920 | success_rate (last 100): 92.00% | epsilon: 0.050\n",
            "[FrozenLake-v1] Episode 4800/6000 | avg_return (last 100): 0.970 | success_rate (last 100): 97.00% | epsilon: 0.050\n",
            "[FrozenLake-v1] Episode 5400/6000 | avg_return (last 100): 0.950 | success_rate (last 100): 95.00% | epsilon: 0.050\n",
            "[FrozenLake-v1] Episode 6000/6000 | avg_return (last 100): 0.910 | success_rate (last 100): 91.00% | epsilon: 0.050\n",
            "FrozenLake representation example: state=10 -> coords=(2, 2) (row, col)\n",
            "Eval over 50 episodes -> avg_return: 1.000, success_rate: 100.00%\n",
            "\n",
            "--- Greedy rollout (sample) ---\n",
            "t=00 state= 0 (r,c)=(0, 0) action=1 reward=0.0\n",
            "t=01 state= 4 (r,c)=(1, 0) action=1 reward=0.0\n",
            "t=02 state= 8 (r,c)=(2, 0) action=2 reward=0.0\n",
            "t=03 state= 9 (r,c)=(2, 1) action=1 reward=0.0\n",
            "t=04 state=13 (r,c)=(3, 1) action=2 reward=0.0\n",
            "t=05 state=14 (r,c)=(3, 2) action=2 reward=1.0\n",
            "Total reward in rollout: 1.0\n",
            "\n",
            "\n",
            "=== Training FrozenLake-v1 (slippery=True) ===\n",
            "[FrozenLake-v1] Episode 1200/12000 | avg_return (last 100): 0.230 | success_rate (last 100): 23.00% | epsilon: 0.050\n",
            "[FrozenLake-v1] Episode 2400/12000 | avg_return (last 100): 0.230 | success_rate (last 100): 23.00% | epsilon: 0.050\n",
            "[FrozenLake-v1] Episode 3600/12000 | avg_return (last 100): 0.270 | success_rate (last 100): 27.00% | epsilon: 0.050\n",
            "[FrozenLake-v1] Episode 4800/12000 | avg_return (last 100): 0.270 | success_rate (last 100): 27.00% | epsilon: 0.050\n",
            "[FrozenLake-v1] Episode 6000/12000 | avg_return (last 100): 0.330 | success_rate (last 100): 33.00% | epsilon: 0.050\n",
            "[FrozenLake-v1] Episode 7200/12000 | avg_return (last 100): 0.260 | success_rate (last 100): 26.00% | epsilon: 0.050\n",
            "[FrozenLake-v1] Episode 8400/12000 | avg_return (last 100): 0.210 | success_rate (last 100): 21.00% | epsilon: 0.050\n",
            "[FrozenLake-v1] Episode 9600/12000 | avg_return (last 100): 0.180 | success_rate (last 100): 18.00% | epsilon: 0.050\n",
            "[FrozenLake-v1] Episode 10800/12000 | avg_return (last 100): 0.330 | success_rate (last 100): 33.00% | epsilon: 0.050\n",
            "[FrozenLake-v1] Episode 12000/12000 | avg_return (last 100): 0.250 | success_rate (last 100): 25.00% | epsilon: 0.050\n",
            "FrozenLake representation example: state=6 -> coords=(1, 2) (row, col)\n",
            "Eval over 50 episodes -> avg_return: 0.560, success_rate: 56.00%\n",
            "\n",
            "--- Greedy rollout (sample) ---\n",
            "t=00 state= 0 (r,c)=(0, 0) action=0 reward=0.0\n",
            "t=01 state= 0 (r,c)=(0, 0) action=0 reward=0.0\n",
            "t=02 state= 4 (r,c)=(1, 0) action=0 reward=0.0\n",
            "t=03 state= 8 (r,c)=(2, 0) action=3 reward=0.0\n",
            "t=04 state= 9 (r,c)=(2, 1) action=1 reward=0.0\n",
            "t=05 state= 8 (r,c)=(2, 0) action=3 reward=0.0\n",
            "t=06 state= 8 (r,c)=(2, 0) action=3 reward=0.0\n",
            "t=07 state= 8 (r,c)=(2, 0) action=3 reward=0.0\n",
            "t=08 state= 8 (r,c)=(2, 0) action=3 reward=0.0\n",
            "t=09 state= 4 (r,c)=(1, 0) action=0 reward=0.0\n",
            "t=10 state= 0 (r,c)=(0, 0) action=0 reward=0.0\n",
            "t=11 state= 4 (r,c)=(1, 0) action=0 reward=0.0\n",
            "t=12 state= 8 (r,c)=(2, 0) action=3 reward=0.0\n",
            "t=13 state= 8 (r,c)=(2, 0) action=3 reward=0.0\n",
            "t=14 state= 8 (r,c)=(2, 0) action=3 reward=0.0\n",
            "t=15 state= 4 (r,c)=(1, 0) action=0 reward=0.0\n",
            "t=16 state= 0 (r,c)=(0, 0) action=0 reward=0.0\n",
            "t=17 state= 0 (r,c)=(0, 0) action=0 reward=0.0\n",
            "t=18 state= 0 (r,c)=(0, 0) action=0 reward=0.0\n",
            "t=19 state= 0 (r,c)=(0, 0) action=0 reward=0.0\n",
            "t=20 state= 0 (r,c)=(0, 0) action=0 reward=0.0\n",
            "t=21 state= 4 (r,c)=(1, 0) action=0 reward=0.0\n",
            "t=22 state= 0 (r,c)=(0, 0) action=0 reward=0.0\n",
            "t=23 state= 4 (r,c)=(1, 0) action=0 reward=0.0\n",
            "t=24 state= 8 (r,c)=(2, 0) action=3 reward=0.0\n",
            "t=25 state= 4 (r,c)=(1, 0) action=0 reward=0.0\n",
            "t=26 state= 8 (r,c)=(2, 0) action=3 reward=0.0\n",
            "t=27 state= 8 (r,c)=(2, 0) action=3 reward=0.0\n",
            "t=28 state= 8 (r,c)=(2, 0) action=3 reward=0.0\n",
            "t=29 state= 8 (r,c)=(2, 0) action=3 reward=0.0\n",
            "t=30 state= 4 (r,c)=(1, 0) action=0 reward=0.0\n",
            "t=31 state= 4 (r,c)=(1, 0) action=0 reward=0.0\n",
            "t=32 state= 4 (r,c)=(1, 0) action=0 reward=0.0\n",
            "t=33 state= 8 (r,c)=(2, 0) action=3 reward=0.0\n",
            "t=34 state= 9 (r,c)=(2, 1) action=1 reward=0.0\n",
            "t=35 state=13 (r,c)=(3, 1) action=2 reward=0.0\n",
            "t=36 state=14 (r,c)=(3, 2) action=3 reward=0.0\n",
            "t=37 state=10 (r,c)=(2, 2) action=0 reward=0.0\n",
            "t=38 state= 9 (r,c)=(2, 1) action=1 reward=0.0\n",
            "t=39 state=10 (r,c)=(2, 2) action=0 reward=0.0\n",
            "Total reward in rollout: 0.0\n",
            "\n",
            "\n",
            "=== Training Taxi-v3 ===\n",
            "[Taxi-v3] Episode 600/6000 | avg_return (last 100): 3.390 | success_rate (last 100): 74.00% | epsilon: 0.050\n",
            "[Taxi-v3] Episode 1200/6000 | avg_return (last 100): 4.030 | success_rate (last 100): 80.00% | epsilon: 0.050\n",
            "[Taxi-v3] Episode 1800/6000 | avg_return (last 100): 4.780 | success_rate (last 100): 85.00% | epsilon: 0.050\n",
            "[Taxi-v3] Episode 2400/6000 | avg_return (last 100): 5.510 | success_rate (last 100): 87.00% | epsilon: 0.050\n",
            "[Taxi-v3] Episode 3000/6000 | avg_return (last 100): 6.510 | success_rate (last 100): 91.00% | epsilon: 0.050\n",
            "[Taxi-v3] Episode 3600/6000 | avg_return (last 100): 4.860 | success_rate (last 100): 79.00% | epsilon: 0.050\n",
            "[Taxi-v3] Episode 4200/6000 | avg_return (last 100): 4.170 | success_rate (last 100): 81.00% | epsilon: 0.050\n",
            "[Taxi-v3] Episode 4800/6000 | avg_return (last 100): 5.630 | success_rate (last 100): 85.00% | epsilon: 0.050\n",
            "[Taxi-v3] Episode 5400/6000 | avg_return (last 100): 4.600 | success_rate (last 100): 80.00% | epsilon: 0.050\n",
            "[Taxi-v3] Episode 6000/6000 | avg_return (last 100): 4.650 | success_rate (last 100): 85.00% | epsilon: 0.050\n",
            "Taxi representation example: state=384 -> (row, col, passenger_loc, destination)=(3, 4, 1, 0)\n",
            "Eval over 50 episodes -> avg_return: 7.700, success_rate: 100.00%\n",
            "\n",
            "--- Greedy rollout (sample) ---\n",
            "t=00 state=414 dec=(4, 0, 3, 2) action=1 reward=-1\n",
            "t=01 state=314 dec=(3, 0, 3, 2) action=1 reward=-1\n",
            "t=02 state=214 dec=(2, 0, 3, 2) action=2 reward=-1\n",
            "t=03 state=234 dec=(2, 1, 3, 2) action=2 reward=-1\n",
            "t=04 state=254 dec=(2, 2, 3, 2) action=2 reward=-1\n",
            "t=05 state=274 dec=(2, 3, 3, 2) action=0 reward=-1\n",
            "t=06 state=374 dec=(3, 3, 3, 2) action=0 reward=-1\n",
            "t=07 state=474 dec=(4, 3, 3, 2) action=4 reward=-1\n",
            "t=08 state=478 dec=(4, 3, 4, 2) action=1 reward=-1\n",
            "t=09 state=378 dec=(3, 3, 4, 2) action=1 reward=-1\n",
            "t=10 state=278 dec=(2, 3, 4, 2) action=3 reward=-1\n",
            "t=11 state=258 dec=(2, 2, 4, 2) action=3 reward=-1\n",
            "t=12 state=238 dec=(2, 1, 4, 2) action=3 reward=-1\n",
            "t=13 state=218 dec=(2, 0, 4, 2) action=0 reward=-1\n",
            "t=14 state=318 dec=(3, 0, 4, 2) action=0 reward=-1\n",
            "t=15 state=418 dec=(4, 0, 4, 2) action=5 reward=20\n",
            "Total reward in rollout: 5.0\n",
            "\n"
          ]
        }
      ]
    },
    {
      "cell_type": "code",
      "metadata": {
        "colab": {
          "base_uri": "https://localhost:8080/",
          "height": 564
        },
        "id": "488172c4",
        "outputId": "58255501-76de-4513-85e4-f85eccf042b2"
      },
      "source": [
        "# Plot the cumulative reward per episode\n",
        "plt.figure(figsize=(12, 6))\n",
        "plt.plot(cumulative_rewards)\n",
        "plt.title(\"Q-learning Training Progress: Cumulative Reward per Episode\")\n",
        "plt.xlabel(\"Episode\")\n",
        "plt.ylabel(\"Cumulative Reward\")\n",
        "plt.grid(True)\n",
        "plt.show()\n",
        "\n",
        "# Brief analysis\n",
        "# The plot shows the cumulative reward obtained in each episode during training.\n",
        "# Observing the trend can indicate whether the agent is learning effectively.\n",
        "# An upward trend would suggest learning progress, while plateaus or fluctuations might indicate slower learning or challenges in the environment."
      ],
      "execution_count": 17,
      "outputs": [
        {
          "output_type": "display_data",
          "data": {
            "text/plain": [
              "<Figure size 1200x600 with 1 Axes>"
            ],
            "image/png": "[encoded data removed]"
          },
          "metadata": {}
        }
      ]
    }
  ]
}